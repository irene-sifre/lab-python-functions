{
 "cells": [
  {
   "cell_type": "markdown",
   "id": "25d7736c-ba17-4aff-b6bb-66eba20fbf4e",
   "metadata": {},
   "source": [
    "# Lab | Functions"
   ]
  },
  {
   "cell_type": "markdown",
   "id": "0c581062-8967-4d93-b06e-62833222f930",
   "metadata": {
    "tags": []
   },
   "source": [
    "## Exercise: Managing Customer Orders with Functions\n",
    "\n",
    "In the previous exercise, you improved the code for managing customer orders by using loops and flow control. Now, let's take it a step further and refactor the code by introducing functions.\n",
    "\n",
    "Follow the steps below to complete the exercise:\n",
    "\n",
    "1. Define a function named `initialize_inventory` that takes `products` as a parameter. Inside the function, implement the code for initializing the inventory dictionary using a loop and user input.\n",
    "\n",
    "2. Define a function named `get_customer_orders` that takes no parameters. Inside the function, implement the code for prompting the user to enter the product names using a loop. The function should return the `customer_orders` set.\n",
    "\n",
    "3. Define a function named `update_inventory` that takes `customer_orders` and `inventory` as parameters. Inside the function, implement the code for updating the inventory dictionary based on the customer orders.\n",
    "\n",
    "4. Define a function named `calculate_order_statistics` that takes `customer_orders` and `products` as parameters. Inside the function, implement the code for calculating the order statistics (total products ordered, and percentage of unique products ordered). The function should return these values.\n",
    "\n",
    "5. Define a function named `print_order_statistics` that takes `order_statistics` as a parameter. Inside the function, implement the code for printing the order statistics.\n",
    "\n",
    "6. Define a function named `print_updated_inventory` that takes `inventory` as a parameter. Inside the function, implement the code for printing the updated inventory.\n",
    "\n",
    "7. Call the functions in the appropriate sequence to execute the program and manage customer orders.\n",
    "\n",
    "Hints for functions:\n",
    "\n",
    "- Consider the input parameters required for each function and their return values.\n",
    "- Utilize function parameters and return values to transfer data between functions.\n",
    "- Test your functions individually to ensure they work correctly.\n",
    "\n",
    "\n"
   ]
  },
  {
   "cell_type": "code",
   "execution_count": 53,
   "id": "06e0ae5c",
   "metadata": {},
   "outputs": [],
   "source": [
    "products = ['t-shirt','mug','hat','book','keychain']\n",
    "inventory = {}\n"
   ]
  },
  {
   "cell_type": "code",
   "execution_count": 54,
   "id": "176f93ba",
   "metadata": {},
   "outputs": [],
   "source": [
    "#1 Define a function named initialize_inventory \n",
    "def initialize_inventory(products):\n",
    "    inventory = {}\n",
    "    for element in products:\n",
    "        inventory[element] = int(input(f'Please enter your {element} stock:'))\n",
    "    return inventory"
   ]
  },
  {
   "cell_type": "code",
   "execution_count": 56,
   "id": "39d2259e",
   "metadata": {},
   "outputs": [],
   "source": [
    "inventory=initialize_inventory(products)"
   ]
  },
  {
   "cell_type": "code",
   "execution_count": 44,
   "id": "00beed1d",
   "metadata": {},
   "outputs": [],
   "source": [
    "#2 Define a function named get_customer_orders that takes no parameters. \n",
    "\n",
    "def get_customer_orders():\n",
    "    new_order=True\n",
    "    customer_orders=set()\n",
    "    while new_order:\n",
    "        product_name=input('Enter name of product to order:')\n",
    "        customer_orders.add(product_name)\n",
    "        choice=input('do you want to order another product? (yes/no) :')\n",
    "        if choice.lower() != 'yes':\n",
    "            new_order=False\n",
    "    return customer_orders"
   ]
  },
  {
   "cell_type": "code",
   "execution_count": 45,
   "id": "b853d74a",
   "metadata": {},
   "outputs": [
    {
     "name": "stdout",
     "output_type": "stream",
     "text": [
      "{'mug'}\n"
     ]
    },
    {
     "data": {
      "text/plain": [
       "{'t-shirt': 5, 'mug': 4, 'hat': 3, 'book': 2, 'keychain': 1}"
      ]
     },
     "execution_count": 45,
     "metadata": {},
     "output_type": "execute_result"
    }
   ],
   "source": [
    "customer_orders=get_customer_orders()\n",
    "print(customer_orders)\n",
    "inventory"
   ]
  },
  {
   "cell_type": "code",
   "execution_count": 57,
   "id": "c458d67c",
   "metadata": {},
   "outputs": [
    {
     "name": "stdout",
     "output_type": "stream",
     "text": [
      "{'t-shirt': 2, 'mug': 3, 'hat': 4, 'book': 1, 'keychain': 2, '1': 1}\n"
     ]
    }
   ],
   "source": [
    "#3. Define a function named update_inventory that takes customer_orders and inventory\n",
    "def update_inventory(customer_orders,inventory):\n",
    "    for key in customer_orders:\n",
    "        if key in inventory:\n",
    "            inventory[key]=inventory[key]-1\n",
    "        else:\n",
    "            inventory[key]=1\n",
    "    return inventory\n",
    "new_inventory=update_inventory(customer_orders,inventory)\n",
    "print(new_inventory)"
   ]
  },
  {
   "cell_type": "code",
   "execution_count": 58,
   "id": "9177d16e",
   "metadata": {},
   "outputs": [
    {
     "data": {
      "text/plain": [
       "tuple"
      ]
     },
     "execution_count": 58,
     "metadata": {},
     "output_type": "execute_result"
    }
   ],
   "source": [
    "#4 Define a function named calculate_order_statistics that takes customer_orders and products\n",
    "def calculate_order_statistics(customer_orders,products):\n",
    "    for product in customer_orders:\n",
    "        if product in products:\n",
    "            total_products_ordered=len(customer_orders)\n",
    "            per_product_ordered=(total_products_ordered/len(products))*100\n",
    "        return total_products_ordered, per_product_ordered\n",
    "    order_statistics = calculate_order_statistics(customer_orders,products)\n",
    "type(order_statistics)\n"
   ]
  },
  {
   "cell_type": "code",
   "execution_count": 59,
   "id": "527174f9",
   "metadata": {},
   "outputs": [],
   "source": [
    "#5. Define a function named print_report that takes inventory\n",
    "def print_order_statistics(order_statistics):\n",
    "    print('Total products ordered: ', order_statistics[0])\n",
    "    print('Percentage of unique products ordered:', order_statistics[1],'%')"
   ]
  },
  {
   "cell_type": "code",
   "execution_count": 60,
   "id": "a0362883",
   "metadata": {},
   "outputs": [],
   "source": [
    "#6. Define a function named print_updated_inventory that takes inventory\n",
    "def print_updated_inventory(inventory):\n",
    "    print('Updated_inventory:')\n",
    "    print(new_inventory)"
   ]
  },
  {
   "cell_type": "code",
   "execution_count": 61,
   "id": "8652b02b",
   "metadata": {},
   "outputs": [
    {
     "name": "stdout",
     "output_type": "stream",
     "text": [
      "Total products ordered:  2\n",
      "Percentage of unique products ordered: 40.0 %\n",
      "Updated_inventory:\n",
      "{'t-shirt': 1, 'mug': 1, 'hat': 3, 'book': 1, 'keychain': 2}\n"
     ]
    }
   ],
   "source": [
    "#7. Call the functions in the appropriate sequence to execute the program and manage customer orders.\n",
    "pproducts = ['t-shirt','mug','hat','book','keychain']\n",
    "inventory=initialize_inventory(products)\n",
    "customer_orders=get_customer_orders()\n",
    "new_inventory=update_inventory(customer_orders,inventory)\n",
    "order_statistics = calculate_order_statistics(customer_orders,products)\n",
    "print_order_statistics(order_statistics)\n",
    "print_updated_inventory(inventory)\n"
   ]
  }
 ],
 "metadata": {
  "kernelspec": {
   "display_name": "Python 3 (ipykernel)",
   "language": "python",
   "name": "python3"
  },
  "language_info": {
   "codemirror_mode": {
    "name": "ipython",
    "version": 3
   },
   "file_extension": ".py",
   "mimetype": "text/x-python",
   "name": "python",
   "nbconvert_exporter": "python",
   "pygments_lexer": "ipython3",
   "version": "3.12.4"
  }
 },
 "nbformat": 4,
 "nbformat_minor": 5
}
